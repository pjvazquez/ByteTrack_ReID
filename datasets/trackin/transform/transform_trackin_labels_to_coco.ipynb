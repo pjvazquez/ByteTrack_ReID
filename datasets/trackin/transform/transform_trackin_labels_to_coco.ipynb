{
 "cells": [
  {
   "cell_type": "markdown",
   "metadata": {},
   "source": [
    "## TRANSFORM LABELED ANNOTATIONS IN TESTING DATASET TO COCO DATASET FOR BYTETRACK TESTING"
   ]
  },
  {
   "cell_type": "code",
   "execution_count": 1,
   "metadata": {},
   "outputs": [],
   "source": [
    "import cv2\n",
    "import json\n",
    "from json import JSONEncoder\n",
    "import pandas as pd\n",
    "import numpy as np\n",
    "import pycocotools.mask as mask_util\n",
    "import pycocotools.coco as COCO\n",
    "\n",
    "from tqdm import tqdm"
   ]
  },
  {
   "cell_type": "markdown",
   "metadata": {},
   "source": [
    "### Load json files"
   ]
  },
  {
   "cell_type": "code",
   "execution_count": 2,
   "metadata": {},
   "outputs": [],
   "source": [
    "datapath = '..'"
   ]
  },
  {
   "cell_type": "code",
   "execution_count": 3,
   "metadata": {},
   "outputs": [],
   "source": [
    "with open(f'{datapath}/annotations/cam1.json') as json_file:\n",
    "    data1 = json.load(json_file)\n",
    "with open(f'{datapath}/annotations/cam2.json') as json_file:\n",
    "    data2 = json.load(json_file)\n",
    "with open(f'{datapath}/annotations/cam3.json') as json_file:\n",
    "    data3 = json.load(json_file)"
   ]
  },
  {
   "cell_type": "code",
   "execution_count": 4,
   "metadata": {},
   "outputs": [],
   "source": [
    "data_df1 = pd.json_normalize(data1)\n",
    "data_df2 = pd.json_normalize(data2)\n",
    "data_df3 = pd.json_normalize(data3)"
   ]
  },
  {
   "cell_type": "code",
   "execution_count": 5,
   "metadata": {},
   "outputs": [
    {
     "data": {
      "text/plain": [
       "{'name': '', 'id': 0, 'url': ''}"
      ]
     },
     "execution_count": 5,
     "metadata": {},
     "output_type": "execute_result"
    }
   ],
   "source": [
    "data_df1['licenses'][0][0]"
   ]
  },
  {
   "cell_type": "code",
   "execution_count": 6,
   "metadata": {},
   "outputs": [],
   "source": [
    "no_data_columns = ['info.contributor','info.date_created','info.description','info.url','info.version','info.year']\n",
    "data_df1.drop(no_data_columns, axis=1, inplace=True)\n",
    "data_df2.drop(no_data_columns, axis=1, inplace=True)\n",
    "data_df3.drop(no_data_columns, axis=1, inplace=True)"
   ]
  },
  {
   "cell_type": "code",
   "execution_count": 8,
   "metadata": {},
   "outputs": [
    {
     "name": "stdout",
     "output_type": "stream",
     "text": [
      "licenses  -\t ['name', 'id', 'url']\n",
      "categories  -\t ['id', 'name', 'supercategory']\n",
      "images  -\t ['id', 'width', 'height', 'file_name', 'license', 'flickr_url', 'coco_url', 'date_captured']\n",
      "annotations  -\t ['id', 'image_id', 'category_id', 'segmentation', 'area', 'bbox', 'iscrowd', 'attributes']\n"
     ]
    }
   ],
   "source": [
    "for k in data_df1.keys():\n",
    "    print(k, ' -\\t', list(data_df1[k][0][0].keys()))"
   ]
  },
  {
   "cell_type": "code",
   "execution_count": 9,
   "metadata": {},
   "outputs": [],
   "source": [
    "data_df = pd.concat([data_df1, data_df2 ,data_df3])"
   ]
  },
  {
   "cell_type": "code",
   "execution_count": 12,
   "metadata": {},
   "outputs": [
    {
     "data": {
      "text/html": [
       "<div>\n",
       "<style scoped>\n",
       "    .dataframe tbody tr th:only-of-type {\n",
       "        vertical-align: middle;\n",
       "    }\n",
       "\n",
       "    .dataframe tbody tr th {\n",
       "        vertical-align: top;\n",
       "    }\n",
       "\n",
       "    .dataframe thead th {\n",
       "        text-align: right;\n",
       "    }\n",
       "</style>\n",
       "<table border=\"1\" class=\"dataframe\">\n",
       "  <thead>\n",
       "    <tr style=\"text-align: right;\">\n",
       "      <th></th>\n",
       "      <th>licenses</th>\n",
       "      <th>categories</th>\n",
       "      <th>images</th>\n",
       "      <th>annotations</th>\n",
       "    </tr>\n",
       "  </thead>\n",
       "  <tbody>\n",
       "    <tr>\n",
       "      <th>0</th>\n",
       "      <td>[{'name': '', 'id': 0, 'url': ''}]</td>\n",
       "      <td>[{'id': 1, 'name': 'Person 1', 'supercategory'...</td>\n",
       "      <td>[{'id': 1, 'width': 352, 'height': 198, 'file_...</td>\n",
       "      <td>[{'id': 1, 'image_id': 1, 'category_id': 1, 's...</td>\n",
       "    </tr>\n",
       "    <tr>\n",
       "      <th>0</th>\n",
       "      <td>[{'name': '', 'id': 0, 'url': ''}]</td>\n",
       "      <td>[{'id': 1, 'name': 'Person 1', 'supercategory'...</td>\n",
       "      <td>[{'id': 1, 'width': 352, 'height': 198, 'file_...</td>\n",
       "      <td>[{'id': 1, 'image_id': 1, 'category_id': 4, 's...</td>\n",
       "    </tr>\n",
       "    <tr>\n",
       "      <th>0</th>\n",
       "      <td>[{'name': '', 'id': 0, 'url': ''}]</td>\n",
       "      <td>[{'id': 1, 'name': 'Person 1', 'supercategory'...</td>\n",
       "      <td>[{'id': 1, 'width': 352, 'height': 198, 'file_...</td>\n",
       "      <td>[{'id': 1, 'image_id': 406, 'category_id': 6, ...</td>\n",
       "    </tr>\n",
       "  </tbody>\n",
       "</table>\n",
       "</div>"
      ],
      "text/plain": [
       "                             licenses  \\\n",
       "0  [{'name': '', 'id': 0, 'url': ''}]   \n",
       "0  [{'name': '', 'id': 0, 'url': ''}]   \n",
       "0  [{'name': '', 'id': 0, 'url': ''}]   \n",
       "\n",
       "                                          categories  \\\n",
       "0  [{'id': 1, 'name': 'Person 1', 'supercategory'...   \n",
       "0  [{'id': 1, 'name': 'Person 1', 'supercategory'...   \n",
       "0  [{'id': 1, 'name': 'Person 1', 'supercategory'...   \n",
       "\n",
       "                                              images  \\\n",
       "0  [{'id': 1, 'width': 352, 'height': 198, 'file_...   \n",
       "0  [{'id': 1, 'width': 352, 'height': 198, 'file_...   \n",
       "0  [{'id': 1, 'width': 352, 'height': 198, 'file_...   \n",
       "\n",
       "                                         annotations  \n",
       "0  [{'id': 1, 'image_id': 1, 'category_id': 1, 's...  \n",
       "0  [{'id': 1, 'image_id': 1, 'category_id': 4, 's...  \n",
       "0  [{'id': 1, 'image_id': 406, 'category_id': 6, ...  "
      ]
     },
     "execution_count": 12,
     "metadata": {},
     "output_type": "execute_result"
    }
   ],
   "source": [
    "data_df.head(10)"
   ]
  },
  {
   "cell_type": "code",
   "execution_count": 10,
   "metadata": {},
   "outputs": [
    {
     "name": "stdout",
     "output_type": "stream",
     "text": [
      "licenses  -\t [0, 0, 0]\n",
      "categories  -\t [0, 0, 0]\n",
      "images  -\t [0, 0, 0]\n",
      "annotations  -\t [0, 0, 0]\n"
     ]
    }
   ],
   "source": [
    "for k in data_df.keys():\n",
    "    print(k, ' -\\t', list(data_df[k][0][0].keys()))"
   ]
  },
  {
   "cell_type": "markdown",
   "metadata": {},
   "source": [
    "### BYTETRACK MOT data structute "
   ]
  },
  {
   "cell_type": "code",
   "execution_count": null,
   "metadata": {},
   "outputs": [],
   "source": [
    "with open(f'../../mot/annotations/val_half.json') as json_file:\n",
    "    data_mot = json.load(json_file)"
   ]
  },
  {
   "cell_type": "code",
   "execution_count": null,
   "metadata": {},
   "outputs": [],
   "source": [
    "data_mot.keys()"
   ]
  },
  {
   "cell_type": "code",
   "execution_count": null,
   "metadata": {},
   "outputs": [],
   "source": [
    "# videos is the missing key in the dictionary\n",
    "for k in data_mot.keys():\n",
    "    print(k, ' -\\t', list(data_mot[k][0].keys()))"
   ]
  },
  {
   "cell_type": "markdown",
   "metadata": {},
   "source": [
    "### Adding elements to labelled data"
   ]
  },
  {
   "cell_type": "code",
   "execution_count": null,
   "metadata": {},
   "outputs": [],
   "source": []
  },
  {
   "cell_type": "markdown",
   "metadata": {},
   "source": [
    "### Load labelled data"
   ]
  },
  {
   "cell_type": "code",
   "execution_count": null,
   "metadata": {},
   "outputs": [],
   "source": [
    "dp_coco1 = COCO( datapath + 'Canary/Labels_20210515_a/cam1.json')\n",
    "dp_coco2 = COCO( datapath + 'Canary/Labels_20210515_a/cam2.json')\n",
    "dp_coco3 = COCO( datapath + 'Canary/Labels_20210515_a/cam3.json')"
   ]
  },
  {
   "cell_type": "code",
   "execution_count": null,
   "metadata": {},
   "outputs": [],
   "source": [
    "# Get img id's for the minival dataset.\n",
    "im_ids1 = dp_coco1.getImgIds()\n",
    "im_ids2 = dp_coco2.getImgIds()\n",
    "im_ids3 = dp_coco3.getImgIds()\n",
    "# Select a random image id.\n",
    "print(\"num ids \", len(im_ids1))\n",
    "v = randint(0, len(im_ids1))\n",
    "# v = 6195\n",
    "print(\"rand \", v)\n",
    "Selected_im1 = im_ids1[v]\n",
    "print(\"selected \", Selected_im1)\n",
    "im1 = dp_coco1.loadImgs(Selected_im1)[0]  \n",
    "# Load Anns for the selected image.\n",
    "ann_ids1 = dp_coco1.getAnnIds( imgIds=im1['id'] )\n",
    "anns1 = dp_coco1.loadAnns(ann_ids1)\n",
    "print(\"im \", im1, im1['id'])\n",
    "print(\"anns \", anns1)\n",
    "# Now read and b\n",
    "im_name = os.path.join( label_folder + 'Canary/Images_20210515_a/Images',  im1['file_name'] )"
   ]
  }
 ],
 "metadata": {
  "kernelspec": {
   "display_name": "Python 3.10.4 ('trackin')",
   "language": "python",
   "name": "python3"
  },
  "language_info": {
   "codemirror_mode": {
    "name": "ipython",
    "version": 3
   },
   "file_extension": ".py",
   "mimetype": "text/x-python",
   "name": "python",
   "nbconvert_exporter": "python",
   "pygments_lexer": "ipython3",
   "version": "3.10.4"
  },
  "orig_nbformat": 4,
  "vscode": {
   "interpreter": {
    "hash": "7a7fe820007255c49e69db1d198b1020b9b9f73387b9278f0c05c03222e8a5c5"
   }
  }
 },
 "nbformat": 4,
 "nbformat_minor": 2
}
